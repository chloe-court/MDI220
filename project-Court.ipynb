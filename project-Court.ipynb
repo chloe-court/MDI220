{
 "cells": [
  {
   "cell_type": "markdown",
   "id": "528c4397",
   "metadata": {},
   "source": [
    "# MDI220\n",
    "# Statistics\n",
    "\n",
    "# Project "
   ]
  },
  {
   "cell_type": "markdown",
   "id": "9f9f9769",
   "metadata": {},
   "source": [
    "This is the project for the course on statistics.\n",
    "\n",
    "You must fill this notebook and upload it on eCampus, **including figures**. Please make sure that it runs **without erros**.\n",
    "\n",
    "You can work in teams but the final notebook, including text and code, must be **yours**. Any copy-pasting across students is strictly forbidden.\n",
    "\n",
    "Please provide **concise answers** and **concise code**, with comments when appropriate."
   ]
  },
  {
   "cell_type": "markdown",
   "id": "ca534555",
   "metadata": {},
   "source": [
    "## Chloé Court"
   ]
  },
  {
   "cell_type": "markdown",
   "id": "986d36a8",
   "metadata": {},
   "source": [
    "## Imports"
   ]
  },
  {
   "cell_type": "markdown",
   "id": "f30a6df8",
   "metadata": {},
   "source": [
    "Please do **not** import any other library."
   ]
  },
  {
   "cell_type": "code",
   "execution_count": 55,
   "id": "d453a573",
   "metadata": {},
   "outputs": [],
   "source": [
    "import numpy as np\n",
    "import pandas as pd\n",
    "import matplotlib.pyplot as plt"
   ]
  },
  {
   "cell_type": "code",
   "execution_count": 56,
   "id": "18e10613",
   "metadata": {},
   "outputs": [],
   "source": [
    "from scipy.stats import norm, chi2, gaussian_kde, t"
   ]
  },
  {
   "cell_type": "code",
   "execution_count": 57,
   "id": "2e543f41",
   "metadata": {},
   "outputs": [],
   "source": [
    "import seaborn as sns"
   ]
  },
  {
   "cell_type": "markdown",
   "id": "150efe52",
   "metadata": {},
   "source": [
    "## Data"
   ]
  },
  {
   "cell_type": "markdown",
   "id": "a447bd21",
   "metadata": {},
   "source": [
    "We consider the **daily electric power consumption** (in MW) in France in the period 2013-2023. The dataset is available on **eCampus**. \n",
    "\n",
    "Detailed information on this dataset is available [here](https://www.data.gouv.fr/fr/datasets/consommation-quotidienne-brute-regionale/)."
   ]
  },
  {
   "cell_type": "code",
   "execution_count": 58,
   "id": "a5379d2c",
   "metadata": {},
   "outputs": [],
   "source": [
    "# do not modify this cell\n",
    "filename = 'power_consumption.csv'\n",
    "df = pd.read_csv(filename)"
   ]
  },
  {
   "cell_type": "code",
   "execution_count": 59,
   "id": "c67ea70e",
   "metadata": {},
   "outputs": [
    {
     "data": {
      "text/html": [
       "<div>\n",
       "<style scoped>\n",
       "    .dataframe tbody tr th:only-of-type {\n",
       "        vertical-align: middle;\n",
       "    }\n",
       "\n",
       "    .dataframe tbody tr th {\n",
       "        vertical-align: top;\n",
       "    }\n",
       "\n",
       "    .dataframe thead th {\n",
       "        text-align: right;\n",
       "    }\n",
       "</style>\n",
       "<table border=\"1\" class=\"dataframe\">\n",
       "  <thead>\n",
       "    <tr style=\"text-align: right;\">\n",
       "      <th></th>\n",
       "      <th>region</th>\n",
       "      <th>date</th>\n",
       "      <th>consumption</th>\n",
       "    </tr>\n",
       "  </thead>\n",
       "  <tbody>\n",
       "    <tr>\n",
       "      <th>0</th>\n",
       "      <td>Auvergne-Rhône-Alpes</td>\n",
       "      <td>2013-01-01</td>\n",
       "      <td>7560</td>\n",
       "    </tr>\n",
       "    <tr>\n",
       "      <th>1</th>\n",
       "      <td>Auvergne-Rhône-Alpes</td>\n",
       "      <td>2013-01-02</td>\n",
       "      <td>8700</td>\n",
       "    </tr>\n",
       "    <tr>\n",
       "      <th>2</th>\n",
       "      <td>Auvergne-Rhône-Alpes</td>\n",
       "      <td>2013-01-03</td>\n",
       "      <td>9367</td>\n",
       "    </tr>\n",
       "    <tr>\n",
       "      <th>3</th>\n",
       "      <td>Auvergne-Rhône-Alpes</td>\n",
       "      <td>2013-01-04</td>\n",
       "      <td>9133</td>\n",
       "    </tr>\n",
       "    <tr>\n",
       "      <th>4</th>\n",
       "      <td>Auvergne-Rhône-Alpes</td>\n",
       "      <td>2013-01-05</td>\n",
       "      <td>8283</td>\n",
       "    </tr>\n",
       "  </tbody>\n",
       "</table>\n",
       "</div>"
      ],
      "text/plain": [
       "                 region        date  consumption\n",
       "0  Auvergne-Rhône-Alpes  2013-01-01         7560\n",
       "1  Auvergne-Rhône-Alpes  2013-01-02         8700\n",
       "2  Auvergne-Rhône-Alpes  2013-01-03         9367\n",
       "3  Auvergne-Rhône-Alpes  2013-01-04         9133\n",
       "4  Auvergne-Rhône-Alpes  2013-01-05         8283"
      ]
     },
     "execution_count": 59,
     "metadata": {},
     "output_type": "execute_result"
    }
   ],
   "source": [
    "df.head()"
   ]
  },
  {
   "cell_type": "code",
   "execution_count": 60,
   "id": "9e299cd9",
   "metadata": {},
   "outputs": [],
   "source": [
    "regions = list(df.region.unique())"
   ]
  },
  {
   "cell_type": "code",
   "execution_count": 61,
   "id": "907ac06f",
   "metadata": {},
   "outputs": [
    {
     "data": {
      "text/plain": [
       "['Auvergne-Rhône-Alpes',\n",
       " 'Bourgogne-Franche-Comté',\n",
       " 'Bretagne',\n",
       " 'Centre-Val de Loire',\n",
       " 'Grand Est',\n",
       " 'Hauts-de-France',\n",
       " 'Normandie',\n",
       " 'Nouvelle-Aquitaine',\n",
       " 'Occitanie',\n",
       " 'Pays de la Loire',\n",
       " \"Provence-Alpes-Côte d'Azur\",\n",
       " 'Île-de-France']"
      ]
     },
     "execution_count": 61,
     "metadata": {},
     "output_type": "execute_result"
    }
   ],
   "source": [
    "regions"
   ]
  },
  {
   "cell_type": "code",
   "execution_count": 62,
   "id": "2e2704da",
   "metadata": {},
   "outputs": [
    {
     "data": {
      "text/html": [
       "<div>\n",
       "<style scoped>\n",
       "    .dataframe tbody tr th:only-of-type {\n",
       "        vertical-align: middle;\n",
       "    }\n",
       "\n",
       "    .dataframe tbody tr th {\n",
       "        vertical-align: top;\n",
       "    }\n",
       "\n",
       "    .dataframe thead th {\n",
       "        text-align: right;\n",
       "    }\n",
       "</style>\n",
       "<table border=\"1\" class=\"dataframe\">\n",
       "  <thead>\n",
       "    <tr style=\"text-align: right;\">\n",
       "      <th></th>\n",
       "      <th>consumption</th>\n",
       "    </tr>\n",
       "    <tr>\n",
       "      <th>region</th>\n",
       "      <th></th>\n",
       "    </tr>\n",
       "  </thead>\n",
       "  <tbody>\n",
       "    <tr>\n",
       "      <th>Auvergne-Rhône-Alpes</th>\n",
       "      <td>7495</td>\n",
       "    </tr>\n",
       "    <tr>\n",
       "      <th>Bourgogne-Franche-Comté</th>\n",
       "      <td>2416</td>\n",
       "    </tr>\n",
       "    <tr>\n",
       "      <th>Bretagne</th>\n",
       "      <td>2546</td>\n",
       "    </tr>\n",
       "    <tr>\n",
       "      <th>Centre-Val de Loire</th>\n",
       "      <td>2139</td>\n",
       "    </tr>\n",
       "    <tr>\n",
       "      <th>Grand Est</th>\n",
       "      <td>5155</td>\n",
       "    </tr>\n",
       "    <tr>\n",
       "      <th>Hauts-de-France</th>\n",
       "      <td>5726</td>\n",
       "    </tr>\n",
       "    <tr>\n",
       "      <th>Normandie</th>\n",
       "      <td>3168</td>\n",
       "    </tr>\n",
       "    <tr>\n",
       "      <th>Nouvelle-Aquitaine</th>\n",
       "      <td>4925</td>\n",
       "    </tr>\n",
       "    <tr>\n",
       "      <th>Occitanie</th>\n",
       "      <td>4266</td>\n",
       "    </tr>\n",
       "    <tr>\n",
       "      <th>Pays de la Loire</th>\n",
       "      <td>3077</td>\n",
       "    </tr>\n",
       "    <tr>\n",
       "      <th>Provence-Alpes-Côte d'Azur</th>\n",
       "      <td>4656</td>\n",
       "    </tr>\n",
       "    <tr>\n",
       "      <th>Île-de-France</th>\n",
       "      <td>8008</td>\n",
       "    </tr>\n",
       "  </tbody>\n",
       "</table>\n",
       "</div>"
      ],
      "text/plain": [
       "                            consumption\n",
       "region                                 \n",
       "Auvergne-Rhône-Alpes               7495\n",
       "Bourgogne-Franche-Comté            2416\n",
       "Bretagne                           2546\n",
       "Centre-Val de Loire                2139\n",
       "Grand Est                          5155\n",
       "Hauts-de-France                    5726\n",
       "Normandie                          3168\n",
       "Nouvelle-Aquitaine                 4925\n",
       "Occitanie                          4266\n",
       "Pays de la Loire                   3077\n",
       "Provence-Alpes-Côte d'Azur         4656\n",
       "Île-de-France                      8008"
      ]
     },
     "execution_count": 62,
     "metadata": {},
     "output_type": "execute_result"
    }
   ],
   "source": [
    "# average consumption per region\n",
    "df[[\"region\", \"consumption\"]].groupby(\"region\").mean().astype(int)"
   ]
  },
  {
   "cell_type": "code",
   "execution_count": 63,
   "id": "3ed15bbc",
   "metadata": {},
   "outputs": [
    {
     "data": {
      "text/plain": [
       "consumption    53582\n",
       "dtype: int64"
      ]
     },
     "execution_count": 63,
     "metadata": {},
     "output_type": "execute_result"
    }
   ],
   "source": [
    "# average consumption in France (MW)\n",
    "df[[\"region\", \"consumption\"]].groupby(\"region\").mean().sum().astype(int)"
   ]
  },
  {
   "cell_type": "code",
   "execution_count": 64,
   "id": "2ebdd086",
   "metadata": {},
   "outputs": [],
   "source": [
    "# selection of a region\n",
    "region = \"Bretagne\"\n",
    "df_region = df[df.region == region]"
   ]
  },
  {
   "cell_type": "code",
   "execution_count": 65,
   "id": "bbb87de5",
   "metadata": {},
   "outputs": [
    {
     "data": {
      "image/png": "[encoded data removed]",
      "text/plain": [
       "<Figure size 432x288 with 1 Axes>"
      ]
     },
     "metadata": {},
     "output_type": "display_data"
    }
   ],
   "source": [
    "# density (with kde = kernel density estimation)\n",
    "sns.kdeplot(data=df_region, x=\"consumption\", label=\"Data\", color='blue', fill=True)\n",
    "plt.title(region)\n",
    "plt.xlabel(\"Consumption (MW)\")\n",
    "plt.legend() \n",
    "plt.show()"
   ]
  },
  {
   "cell_type": "markdown",
   "id": "045ae627",
   "metadata": {},
   "source": [
    "## A. Parameter estimation"
   ]
  },
  {
   "cell_type": "markdown",
   "id": "99972e6a",
   "metadata": {},
   "source": [
    "In all the project, the daily power consumptions are assumed to be i.i.d., with a Gaussian distribution. \n",
    "\n",
    "We use the following estimators for the mean and the variance, given $n$ observations $x_1,\\ldots,x_n$:\n",
    "$$\n",
    "\\hat \\mu = \\frac 1 n \\sum_{i=1}^n x_i\\quad \\hat{\\sigma^2} = \\frac 1 {n-1}\\sum_{i=1}^n (x_i - \\hat \\mu)^2\n",
    "$$\n",
    "The corresponding estimate of the standard deviation is:\n",
    "$$\n",
    "\\hat \\sigma = \\sqrt{\\hat{\\sigma^2}}\n",
    "$$\n",
    "\n",
    "Consider the region Bretagne. \n",
    "\n",
    "1. Show that the estimators for the mean and the variance are unbiased."
   ]
  },
  {
   "cell_type": "markdown",
   "id": "fc43c835",
   "metadata": {},
   "source": [
    "----\n",
    "**Estimator for the mean :**\n",
    "\n",
    "$ \\begin{align} \n",
    "E(\\hat{\\mu}(X_1)) &= E(\\frac{1}{n}\\sum_{i=1}^n X_i)\\nonumber\\\\\n",
    "&=\\frac{1}{n}\\sum_{i=1}^n E(X_i)\\nonumber\\\\\n",
    "&=E(X_1)=\\mu\\nonumber\n",
    "\\end{align}\n",
    "$\n",
    "\n",
    "$\\quad$ -> The mean is unbiased.\n",
    "\n",
    "**Estimator for the variance :**\n",
    "\n",
    "$ \\begin{align} \n",
    "E(\\hat{\\sigma^2}(X_1)) &= E(\\frac 1 {n-1}\\sum_{i=1}^n (X_i - \\hat \\mu)^2)\\nonumber\\\\\n",
    "&=\\frac 1 {n-1}\\sum_{i=1}^nE((X_i - \\hat \\mu)^2)\\nonumber\\\\\n",
    "&=\\frac n {n-1}E(X_1^2-2\\hat{\\mu}X_1+\\hat{\\mu^2})\\nonumber\\\\\n",
    "&=\\frac n {n-1}(E(X_1^2)-\\frac 2 n E(\\sum_{i=1}^n X_iX_1)+\\frac 1 n^2 E((\\sum_{i=1}^n X_i)^2))\\nonumber\\\\\n",
    "&=\\frac n {n-1}(E(X_1^2)-\\frac 2 n (E(X_1^2)+(n-1)E(X_1)^2) + \\frac 1 {n^2} \\underbrace{E\\left(\\sum_{i=1}^n X_i^2 + 2\\sum_{i\\neq j} X_iX_j\\right)}_{= nE(X_1^2)+2E(X_1)^2}\n",
    ")\\nonumber\\\\\n",
    "&=\\frac n {n-1}(E(X_1^2)(1-\\frac{2}{n}+\\frac{1}{n})+E(X_1)^2(\\frac{2}{n^2}-\\frac{2(n-1)}{n}))\\nonumber\\\\\n",
    "&=E(X_1^2)-E(X_1)^2 = \\sigma^2\\nonumber\n",
    "\\end{align}\n",
    "$\n",
    "\n",
    "$\\quad$ -> The variance is unbiased.\n",
    "\n",
    "----"
   ]
  },
  {
   "cell_type": "markdown",
   "id": "259c0fed",
   "metadata": {},
   "source": [
    "2. Give the values obtained for the mean and the standard deviation using these estimators."
   ]
  },
  {
   "cell_type": "code",
   "execution_count": 66,
   "id": "d51c8554",
   "metadata": {},
   "outputs": [
    {
     "name": "stdout",
     "output_type": "stream",
     "text": [
      "The value of the mean using the estimator is : 2546.536155666579\n",
      "The value of the standard deviation using the estimator is : 604.9429842099305\n"
     ]
    }
   ],
   "source": [
    "def get_properties(df_region):\n",
    "    mean=0\n",
    "    std=0\n",
    "    n = len(df_region)\n",
    "    for i in range(n):\n",
    "        mean += df_region[\"consumption\"].values[i]\n",
    "    mean/=n\n",
    "    for i in range(n):\n",
    "        std += (df_region[\"consumption\"].values[i]-mean)**2\n",
    "    return(mean, np.sqrt(1/(n-1)*std), n)\n",
    "\n",
    "print(\"The value of the mean using the estimator is :\", get_properties(df_region)[0])\n",
    "print(\"The value of the standard deviation using the estimator is :\",  get_properties(df_region)[1])"
   ]
  },
  {
   "cell_type": "markdown",
   "id": "d0c9e4bf",
   "metadata": {},
   "source": [
    "3. Generate new data using the corresponding Gaussian model, with the same number of samples."
   ]
  },
  {
   "cell_type": "code",
   "execution_count": 67,
   "id": "baedf3c5",
   "metadata": {},
   "outputs": [
    {
     "data": {
      "text/plain": [
       "Text(0, 0.5, 'Density')"
      ]
     },
     "execution_count": 67,
     "metadata": {},
     "output_type": "execute_result"
    },
    {
     "data": {
      "image/png": "[encoded data removed]",
      "text/plain": [
       "<Figure size 432x288 with 1 Axes>"
      ]
     },
     "metadata": {},
     "output_type": "display_data"
    }
   ],
   "source": [
    "mean, std, n = get_properties(df_region)\n",
    "x = np.linspace(0,11500, n)\n",
    "generated_data = norm.rvs(loc=mean, scale=std, size=n)\n",
    "\n",
    "sns.kdeplot(data=generated_data, label=\"Generated Data\", color='blue', fill=True)\n",
    "\n",
    "plt.title('Generated data corresponding to the Gaussian model')\n",
    "plt.xlabel('Consumption (MW)')\n",
    "plt.ylabel('Density')"
   ]
  },
  {
   "cell_type": "markdown",
   "id": "87a6506c",
   "metadata": {},
   "source": [
    "4. Plot the *kde* (kernel density estimate) of real data and the *kde* of generated data on the same figure."
   ]
  },
  {
   "cell_type": "code",
   "execution_count": 68,
   "id": "4bfd9db4",
   "metadata": {},
   "outputs": [
    {
     "data": {
      "image/png": "[encoded data removed]",
      "text/plain": [
       "<Figure size 432x288 with 1 Axes>"
      ]
     },
     "metadata": {},
     "output_type": "display_data"
    }
   ],
   "source": [
    "def plot_kde(real_data, generated_data, title):\n",
    "    kde_generated = gaussian_kde(generated_data)\n",
    "    kde_real = gaussian_kde(real_data)\n",
    "    \n",
    "    plt.plot(x, kde_generated(x),label=\"Generated Data\", color='blue')\n",
    "    plt.fill_between(x, kde_generated(x), alpha=0.2, color='blue')\n",
    "    \n",
    "    plt.plot(x, kde_real(x),label=\"Real Data\", color='red')\n",
    "    plt.fill_between(x, kde_real(x), alpha=0.2, color='red')\n",
    "\n",
    "    plt.xlabel('Consumption (MW)')\n",
    "    plt.ylabel('Density')\n",
    "    plt.title(title)\n",
    "    plt.legend()\n",
    "    plt.show()\n",
    "\n",
    "\n",
    "plot_kde(df_region[\"consumption\"], generated_data, 'kde of real data and generated data in Bretagne')"
   ]
  },
  {
   "cell_type": "markdown",
   "id": "fc054c89",
   "metadata": {},
   "source": [
    "5. Do the same for the days corresponding to winter (from December 22 to March 21), after updating the model."
   ]
  },
  {
   "cell_type": "code",
   "execution_count": 69,
   "id": "5a67eb62",
   "metadata": {},
   "outputs": [],
   "source": [
    "def get_df_region_winter(df_region):\n",
    "    df_region['date'] = pd.to_datetime(df['date'])\n",
    "    mask = ((df_region['date'].dt.month == 12) & (df_region['date'].dt.day >= 22)) |((df_region['date'].dt.month == 3) & (df_region['date'].dt.day <= 21)) | ((df_region['date'].dt.month == 1) | (df_region['date'].dt.month == 2))\n",
    "    return(df_region[mask])"
   ]
  },
  {
   "cell_type": "code",
   "execution_count": 70,
   "id": "fb6605ce",
   "metadata": {},
   "outputs": [
    {
     "name": "stderr",
     "output_type": "stream",
     "text": [
      "<ipython-input-69-2dc43b487c94>:2: SettingWithCopyWarning: \n",
      "A value is trying to be set on a copy of a slice from a DataFrame.\n",
      "Try using .loc[row_indexer,col_indexer] = value instead\n",
      "\n",
      "See the caveats in the documentation: https://pandas.pydata.org/pandas-docs/stable/user_guide/indexing.html#returning-a-view-versus-a-copy\n",
      "  df_region['date'] = pd.to_datetime(df['date'])\n"
     ]
    }
   ],
   "source": [
    "#updating the model :\n",
    "df_region_winter = get_df_region_winter(df_region)\n",
    "real_winter_data = df_region_winter[\"consumption\"]\n",
    "winter_mean, winter_std, n_winter = get_properties(df_region_winter)\n",
    "\n",
    "winter_data = norm.rvs(loc=winter_mean, scale=winter_std, size=n_winter)"
   ]
  },
  {
   "cell_type": "code",
   "execution_count": 71,
   "id": "b0a134e8",
   "metadata": {},
   "outputs": [
    {
     "data": {
      "text/plain": [
       "<matplotlib.legend.Legend at 0x7fd020f6a370>"
      ]
     },
     "execution_count": 71,
     "metadata": {},
     "output_type": "execute_result"
    },
    {
     "data": {
      "image/png": "[encoded data removed]",
      "text/plain": [
       "<Figure size 432x288 with 1 Axes>"
      ]
     },
     "metadata": {},
     "output_type": "display_data"
    }
   ],
   "source": [
    "x_winter = np.linspace(0, 11500, n_winter)\n",
    "\n",
    "kde= gaussian_kde(winter_data)\n",
    "plt.plot(x_winter, kde(x_winter), label='generated winter data', color = 'blue')\n",
    "plt.fill_between(x_winter, kde(x_winter), alpha = 0.2,color = 'blue')\n",
    "\n",
    "kde=gaussian_kde(real_winter_data)\n",
    "plt.plot(x_winter,kde(x_winter),label='real winter data', color = 'red')\n",
    "plt.fill_between(x_winter, kde(x_winter), alpha = 0.2, color = 'red')\n",
    "plt.xlabel('Consumption(MW)')\n",
    "plt.ylabel('Density')\n",
    "plt.title('kde of real data and generated data during winter in Bretagne')\n",
    "plt.legend()"
   ]
  },
  {
   "cell_type": "markdown",
   "id": "2c341977",
   "metadata": {},
   "source": [
    "6. In which case the Gaussian model seems more appropriate?"
   ]
  },
  {
   "cell_type": "markdown",
   "id": "46f077be",
   "metadata": {},
   "source": [
    "> The gaussian model is much more appropriate during the winter than considering the whole year."
   ]
  },
  {
   "cell_type": "markdown",
   "id": "3b396ff6",
   "metadata": {},
   "source": [
    "## B. Goodness of fit"
   ]
  },
  {
   "cell_type": "markdown",
   "id": "b5d39610",
   "metadata": {},
   "source": [
    "We would like to confirm and quantify the observation of part A.\n",
    "\n",
    "We propose the following metric to measure the dissimilarity between two pdf $f$ and $g$ (with respect to the Lebesgue measure):\n",
    "$$\n",
    "d(f, g) = \\frac 1 2 \\int |f(x) - g(x)| \\mathrm dx.\n",
    "$$"
   ]
  },
  {
   "cell_type": "markdown",
   "id": "87b5684d",
   "metadata": {},
   "source": [
    "1. Show that $d(f,g) \\in [0,1]$, with $d(f,g)=0$ if and only if $f=g$ almost everywhere (for the Lebesgue measure) and $d(f,g)=1$ if and only if $f$ and $g$ have disjoint supports."
   ]
  },
  {
   "cell_type": "markdown",
   "id": "397f4544",
   "metadata": {},
   "source": [
    "----\n",
    "**Show that $d(f,g)\\in [0,1]$ :**\n",
    "$\n",
    "\\begin{align}\n",
    "d(f,g) & = \\frac{1}{2} \\int |f(x) - g(x)| \\, dx \\nonumber\\\\\n",
    "& \\leq \\frac{1}{2} \\int (|f(x)| + |-g(x)|) \\, dx \\quad \\text{(by triangle inequality)} \\notag\\nonumber\\\\\n",
    "&= \\frac{1}{2} \\int (f(x) + g(x)) \\, dx \\quad \\text{(because f and g are positive (pdf property))}\\nonumber\\\\\n",
    "&= \\frac{1}{2} \\int f(x) \\, dx + \\frac{1}{2} \\int g(x) \\, dx \\nonumber\\\\\n",
    "&= 1\\quad \\text{(f and g pdf)}\\nonumber\n",
    "\\end{align}\n",
    "$  \n",
    "\n",
    "$\\quad$ By the positivity of the integral, we can also assert that : $d(f,g)\\geq 0$  \n",
    "\n",
    "$\\quad$ Consequently, $\\boxed{d(f,g)\\in [0,1]}$\n"
   ]
  },
  {
   "cell_type": "markdown",
   "id": "6d098f3a",
   "metadata": {},
   "source": [
    "**Show that $d(f,g)=0$ if and only if $f=g$ almost everywhere:**\n",
    "\n",
    "$\\quad$ If $f=g$ almost everywhere, it is clear that $d(f,g)=0$.  \n",
    "\n",
    "$\\quad$ If $d(f,g)=0$, as $|f-g|$ is continuous ans positive, $|f-g|=0$ almost everywhere, so $f=g$ almost everywhere."
   ]
  },
  {
   "cell_type": "markdown",
   "id": "35fbfb4b",
   "metadata": {},
   "source": [
    "**Show that $d(f,g)=1$ if and only if $f$ and $g$ have disjoint supports if the intersection of :**\n",
    "\n",
    "$\\quad$ If f and g have disjoint supports, $d(f,g)=\\frac 1 2 \\int_{\\text{Supp}(f)}f(x)dx + \\frac 1 2 \\int_{\\text{Supp}(g)}g(x)dx = 1$ because f and g are pdf.  \n",
    "\n",
    "$\\quad$ If $d(f,g)=1$, it means that the triangle inequality is an equality. This is only possible if $f(x)$ and $-g(x)$ have the same sign, which is not true if both of them are not null. So at least one of them is null, and it proves that f and g have disjoint supports.\n",
    "\n",
    "----"
   ]
  },
  {
   "cell_type": "markdown",
   "id": "ae7d158a",
   "metadata": {},
   "source": [
    "2. For the region Bretagne, compute the dissimilarity between the *kde* of real data and the density of the Gaussian model."
   ]
  },
  {
   "cell_type": "code",
   "execution_count": 72,
   "id": "43801814",
   "metadata": {},
   "outputs": [
    {
     "name": "stdout",
     "output_type": "stream",
     "text": [
      "The dissimilarity between the kde of real data and the density of the Gaussian model is : 0.17912911900498796\n"
     ]
    }
   ],
   "source": [
    "mean, std, n = get_properties(df_region)\n",
    "x=np.linspace(0, 11500, n)\n",
    "\n",
    "kde = gaussian_kde(df_region[\"consumption\"])\n",
    "pdf = norm.pdf(x, mean, std)\n",
    "\n",
    "S0 = np.trapz(np.abs(kde(x) - pdf), x)\n",
    "print('The dissimilarity between the kde of real data and the density of the Gaussian model is :', S0/2)"
   ]
  },
  {
   "cell_type": "markdown",
   "id": "f8817106",
   "metadata": {},
   "source": [
    "3. Do the same for the region Bretagne in winter and check your conclusion of part A."
   ]
  },
  {
   "cell_type": "code",
   "execution_count": 73,
   "id": "7b15a902",
   "metadata": {},
   "outputs": [
    {
     "name": "stdout",
     "output_type": "stream",
     "text": [
      "The dissimilarity between the kde of real data in winter and the density of the Gaussian model (also in winter) is : 0.030938119191202887\n"
     ]
    }
   ],
   "source": [
    "kde = gaussian_kde(real_winter_data)\n",
    "winter_mean, winter_std, n_winter = get_properties(df_region_winter)\n",
    "x_winter = np.linspace(0, 11500, n_winter)\n",
    "pdf = norm.pdf(x, winter_mean, winter_std)\n",
    "\n",
    "S1 = np.trapz(np.abs(kde(x) - pdf), x)\n",
    "print('The dissimilarity between the kde of real data in winter and the density of the Gaussian model (also in winter) is :', S1/2)"
   ]
  },
  {
   "cell_type": "markdown",
   "id": "692b4049",
   "metadata": {},
   "source": [
    "> The result is coherent with the conclusion of part A. Indeed, the data is more similar to the Gaussian model in winter than during the whole year."
   ]
  },
  {
   "cell_type": "markdown",
   "id": "7d78fec0",
   "metadata": {},
   "source": [
    "4. Do the same for all regions. Give the result as a single dataframe."
   ]
  },
  {
   "cell_type": "code",
   "execution_count": 74,
   "id": "fef07b23",
   "metadata": {},
   "outputs": [
    {
     "name": "stderr",
     "output_type": "stream",
     "text": [
      "<ipython-input-69-2dc43b487c94>:2: SettingWithCopyWarning: \n",
      "A value is trying to be set on a copy of a slice from a DataFrame.\n",
      "Try using .loc[row_indexer,col_indexer] = value instead\n",
      "\n",
      "See the caveats in the documentation: https://pandas.pydata.org/pandas-docs/stable/user_guide/indexing.html#returning-a-view-versus-a-copy\n",
      "  df_region['date'] = pd.to_datetime(df['date'])\n",
      "<ipython-input-69-2dc43b487c94>:2: SettingWithCopyWarning: \n",
      "A value is trying to be set on a copy of a slice from a DataFrame.\n",
      "Try using .loc[row_indexer,col_indexer] = value instead\n",
      "\n",
      "See the caveats in the documentation: https://pandas.pydata.org/pandas-docs/stable/user_guide/indexing.html#returning-a-view-versus-a-copy\n",
      "  df_region['date'] = pd.to_datetime(df['date'])\n",
      "<ipython-input-69-2dc43b487c94>:2: SettingWithCopyWarning: \n",
      "A value is trying to be set on a copy of a slice from a DataFrame.\n",
      "Try using .loc[row_indexer,col_indexer] = value instead\n",
      "\n",
      "See the caveats in the documentation: https://pandas.pydata.org/pandas-docs/stable/user_guide/indexing.html#returning-a-view-versus-a-copy\n",
      "  df_region['date'] = pd.to_datetime(df['date'])\n",
      "<ipython-input-69-2dc43b487c94>:2: SettingWithCopyWarning: \n",
      "A value is trying to be set on a copy of a slice from a DataFrame.\n",
      "Try using .loc[row_indexer,col_indexer] = value instead\n",
      "\n",
      "See the caveats in the documentation: https://pandas.pydata.org/pandas-docs/stable/user_guide/indexing.html#returning-a-view-versus-a-copy\n",
      "  df_region['date'] = pd.to_datetime(df['date'])\n",
      "<ipython-input-69-2dc43b487c94>:2: SettingWithCopyWarning: \n",
      "A value is trying to be set on a copy of a slice from a DataFrame.\n",
      "Try using .loc[row_indexer,col_indexer] = value instead\n",
      "\n",
      "See the caveats in the documentation: https://pandas.pydata.org/pandas-docs/stable/user_guide/indexing.html#returning-a-view-versus-a-copy\n",
      "  df_region['date'] = pd.to_datetime(df['date'])\n",
      "<ipython-input-69-2dc43b487c94>:2: SettingWithCopyWarning: \n",
      "A value is trying to be set on a copy of a slice from a DataFrame.\n",
      "Try using .loc[row_indexer,col_indexer] = value instead\n",
      "\n",
      "See the caveats in the documentation: https://pandas.pydata.org/pandas-docs/stable/user_guide/indexing.html#returning-a-view-versus-a-copy\n",
      "  df_region['date'] = pd.to_datetime(df['date'])\n",
      "<ipython-input-69-2dc43b487c94>:2: SettingWithCopyWarning: \n",
      "A value is trying to be set on a copy of a slice from a DataFrame.\n",
      "Try using .loc[row_indexer,col_indexer] = value instead\n",
      "\n",
      "See the caveats in the documentation: https://pandas.pydata.org/pandas-docs/stable/user_guide/indexing.html#returning-a-view-versus-a-copy\n",
      "  df_region['date'] = pd.to_datetime(df['date'])\n",
      "<ipython-input-69-2dc43b487c94>:2: SettingWithCopyWarning: \n",
      "A value is trying to be set on a copy of a slice from a DataFrame.\n",
      "Try using .loc[row_indexer,col_indexer] = value instead\n",
      "\n",
      "See the caveats in the documentation: https://pandas.pydata.org/pandas-docs/stable/user_guide/indexing.html#returning-a-view-versus-a-copy\n",
      "  df_region['date'] = pd.to_datetime(df['date'])\n",
      "<ipython-input-69-2dc43b487c94>:2: SettingWithCopyWarning: \n",
      "A value is trying to be set on a copy of a slice from a DataFrame.\n",
      "Try using .loc[row_indexer,col_indexer] = value instead\n",
      "\n",
      "See the caveats in the documentation: https://pandas.pydata.org/pandas-docs/stable/user_guide/indexing.html#returning-a-view-versus-a-copy\n",
      "  df_region['date'] = pd.to_datetime(df['date'])\n",
      "<ipython-input-69-2dc43b487c94>:2: SettingWithCopyWarning: \n",
      "A value is trying to be set on a copy of a slice from a DataFrame.\n",
      "Try using .loc[row_indexer,col_indexer] = value instead\n",
      "\n",
      "See the caveats in the documentation: https://pandas.pydata.org/pandas-docs/stable/user_guide/indexing.html#returning-a-view-versus-a-copy\n",
      "  df_region['date'] = pd.to_datetime(df['date'])\n",
      "<ipython-input-69-2dc43b487c94>:2: SettingWithCopyWarning: \n",
      "A value is trying to be set on a copy of a slice from a DataFrame.\n",
      "Try using .loc[row_indexer,col_indexer] = value instead\n",
      "\n",
      "See the caveats in the documentation: https://pandas.pydata.org/pandas-docs/stable/user_guide/indexing.html#returning-a-view-versus-a-copy\n",
      "  df_region['date'] = pd.to_datetime(df['date'])\n",
      "<ipython-input-69-2dc43b487c94>:2: SettingWithCopyWarning: \n",
      "A value is trying to be set on a copy of a slice from a DataFrame.\n",
      "Try using .loc[row_indexer,col_indexer] = value instead\n",
      "\n",
      "See the caveats in the documentation: https://pandas.pydata.org/pandas-docs/stable/user_guide/indexing.html#returning-a-view-versus-a-copy\n",
      "  df_region['date'] = pd.to_datetime(df['date'])\n"
     ]
    },
    {
     "data": {
      "text/html": [
       "<div>\n",
       "<style scoped>\n",
       "    .dataframe tbody tr th:only-of-type {\n",
       "        vertical-align: middle;\n",
       "    }\n",
       "\n",
       "    .dataframe tbody tr th {\n",
       "        vertical-align: top;\n",
       "    }\n",
       "\n",
       "    .dataframe thead th {\n",
       "        text-align: right;\n",
       "    }\n",
       "</style>\n",
       "<table border=\"1\" class=\"dataframe\">\n",
       "  <thead>\n",
       "    <tr style=\"text-align: right;\">\n",
       "      <th></th>\n",
       "      <th>region</th>\n",
       "      <th>dissimilarity</th>\n",
       "      <th>winter dissimilarity</th>\n",
       "    </tr>\n",
       "  </thead>\n",
       "  <tbody>\n",
       "    <tr>\n",
       "      <th>0</th>\n",
       "      <td>Auvergne-Rhône-Alpes</td>\n",
       "      <td>0.168271</td>\n",
       "      <td>0.036305</td>\n",
       "    </tr>\n",
       "    <tr>\n",
       "      <th>1</th>\n",
       "      <td>Bourgogne-Franche-Comté</td>\n",
       "      <td>0.124553</td>\n",
       "      <td>0.037447</td>\n",
       "    </tr>\n",
       "    <tr>\n",
       "      <th>2</th>\n",
       "      <td>Bretagne</td>\n",
       "      <td>0.179129</td>\n",
       "      <td>0.030942</td>\n",
       "    </tr>\n",
       "    <tr>\n",
       "      <th>3</th>\n",
       "      <td>Centre-Val de Loire</td>\n",
       "      <td>0.194058</td>\n",
       "      <td>0.043139</td>\n",
       "    </tr>\n",
       "    <tr>\n",
       "      <th>4</th>\n",
       "      <td>Grand Est</td>\n",
       "      <td>0.115045</td>\n",
       "      <td>0.039064</td>\n",
       "    </tr>\n",
       "    <tr>\n",
       "      <th>5</th>\n",
       "      <td>Hauts-de-France</td>\n",
       "      <td>0.131456</td>\n",
       "      <td>0.027517</td>\n",
       "    </tr>\n",
       "    <tr>\n",
       "      <th>6</th>\n",
       "      <td>Normandie</td>\n",
       "      <td>0.174286</td>\n",
       "      <td>0.042746</td>\n",
       "    </tr>\n",
       "    <tr>\n",
       "      <th>7</th>\n",
       "      <td>Nouvelle-Aquitaine</td>\n",
       "      <td>0.217600</td>\n",
       "      <td>0.053762</td>\n",
       "    </tr>\n",
       "    <tr>\n",
       "      <th>8</th>\n",
       "      <td>Occitanie</td>\n",
       "      <td>0.222532</td>\n",
       "      <td>0.063293</td>\n",
       "    </tr>\n",
       "    <tr>\n",
       "      <th>9</th>\n",
       "      <td>Pays de la Loire</td>\n",
       "      <td>0.169134</td>\n",
       "      <td>0.039185</td>\n",
       "    </tr>\n",
       "    <tr>\n",
       "      <th>10</th>\n",
       "      <td>Provence-Alpes-Côte d'Azur</td>\n",
       "      <td>0.229353</td>\n",
       "      <td>0.034816</td>\n",
       "    </tr>\n",
       "    <tr>\n",
       "      <th>11</th>\n",
       "      <td>Île-de-France</td>\n",
       "      <td>0.165707</td>\n",
       "      <td>0.035793</td>\n",
       "    </tr>\n",
       "  </tbody>\n",
       "</table>\n",
       "</div>"
      ],
      "text/plain": [
       "                        region  dissimilarity  winter dissimilarity\n",
       "0         Auvergne-Rhône-Alpes       0.168271              0.036305\n",
       "1      Bourgogne-Franche-Comté       0.124553              0.037447\n",
       "2                     Bretagne       0.179129              0.030942\n",
       "3          Centre-Val de Loire       0.194058              0.043139\n",
       "4                    Grand Est       0.115045              0.039064\n",
       "5              Hauts-de-France       0.131456              0.027517\n",
       "6                    Normandie       0.174286              0.042746\n",
       "7           Nouvelle-Aquitaine       0.217600              0.053762\n",
       "8                    Occitanie       0.222532              0.063293\n",
       "9             Pays de la Loire       0.169134              0.039185\n",
       "10  Provence-Alpes-Côte d'Azur       0.229353              0.034816\n",
       "11               Île-de-France       0.165707              0.035793"
      ]
     },
     "execution_count": 74,
     "metadata": {},
     "output_type": "execute_result"
    }
   ],
   "source": [
    "df_dissimilarity = pd.DataFrame(columns=['region', 'dissimilarity', 'winter dissimilarity'])\n",
    "\n",
    "for i in range(0, len(regions)):\n",
    "    df_region = df[df.region == regions[i]]\n",
    "    #all year\n",
    "    mean, std, n = get_properties(df_region)\n",
    "    x= np.linspace(0, 11500, n)\n",
    "    \n",
    "    kde = gaussian_kde(df_region[\"consumption\"])\n",
    "    pdf = norm.pdf(x, mean, std)\n",
    "    S0 = np.trapz(np.abs(kde(x) - pdf), x)\n",
    "\n",
    "    #during winter\n",
    "    df_region_winter = get_df_region_winter(df_region)\n",
    "\n",
    "    kde=gaussian_kde(df_region_winter[\"consumption\"])\n",
    "    winter_mean, winter_std, n_winter = get_properties(df_region_winter)\n",
    "    x_winter= np.linspace(0, 11500, n_winter)\n",
    "\n",
    "    pdf = norm.pdf(x_winter, winter_mean, winter_std)\n",
    "    S1 = np.trapz(np.abs(kde(x_winter) - pdf), x_winter)\n",
    "    \n",
    "    df_dissimilarity.loc[i]=[regions[i], 0.5*S0, 0.5*S1]\n",
    "\n",
    "df_dissimilarity"
   ]
  },
  {
   "cell_type": "markdown",
   "id": "3f0d3f61",
   "metadata": {},
   "source": [
    "5. Which region is best fitted by a Gaussian model in winter?"
   ]
  },
  {
   "cell_type": "markdown",
   "id": "b79e144f",
   "metadata": {},
   "source": [
    "> The region best fitted by a Gaussian model in winter is Hauts-de-France."
   ]
  },
  {
   "cell_type": "markdown",
   "id": "aff086e4",
   "metadata": {},
   "source": [
    "6. For this region and this season, plot the *kde* of real data and the *kde* of generated data on the same figure, as in part A."
   ]
  },
  {
   "cell_type": "code",
   "execution_count": 75,
   "id": "d61bb84e",
   "metadata": {},
   "outputs": [
    {
     "name": "stderr",
     "output_type": "stream",
     "text": [
      "<ipython-input-69-2dc43b487c94>:2: SettingWithCopyWarning: \n",
      "A value is trying to be set on a copy of a slice from a DataFrame.\n",
      "Try using .loc[row_indexer,col_indexer] = value instead\n",
      "\n",
      "See the caveats in the documentation: https://pandas.pydata.org/pandas-docs/stable/user_guide/indexing.html#returning-a-view-versus-a-copy\n",
      "  df_region['date'] = pd.to_datetime(df['date'])\n"
     ]
    },
    {
     "data": {
      "image/png": "[encoded data removed]",
      "text/plain": [
       "<Figure size 432x288 with 1 Axes>"
      ]
     },
     "metadata": {},
     "output_type": "display_data"
    }
   ],
   "source": [
    "df_region = df[df.region == 'Hauts-de-France']\n",
    "df_region_winter = get_df_region_winter(df_region)\n",
    "\n",
    "winter_mean, winter_std, n_winter = get_properties(df_region_winter)\n",
    "x_winter = np.linspace(0, 11500, n_winter)\n",
    "generated_data = norm.rvs(loc=winter_mean, scale=winter_std, size=n_winter)\n",
    "\n",
    "plot_kde(df_region_winter[\"consumption\"], generated_data, 'kde of real data and generated data in Hauts-de-France')"
   ]
  },
  {
   "cell_type": "markdown",
   "id": "838fb2d1",
   "metadata": {},
   "source": [
    "## C. Bayesian statistics"
   ]
  },
  {
   "cell_type": "markdown",
   "id": "92daddb8",
   "metadata": {},
   "source": [
    "We would like to include prior knowledge on the estimation, using Bayesian statistics.\n",
    "\n",
    "Consider the region Bretagne in winter. We focus on the mean $\\mu$, assuming the standard deviation is known and equal to $\\sigma=400$ MW. We assume a Gaussian prior on $\\mu$ with mean $\\mu_0 = 3500$ MW and standard deviation $\\sigma _0 = 500$ MW. \n",
    "\n",
    "1. Give the posterior distribution of $\\mu$, using the parameters $\\sigma$, $\\mu _0$, $\\sigma _0$ and the $n$ observations $x_1,\\ldots,x_n$."
   ]
  },
  {
   "cell_type": "markdown",
   "id": "2d66e4b9",
   "metadata": {},
   "source": [
    "----\n",
    "**The posterior distribution is :** \n",
    "\n",
    "$\\begin{align}\n",
    "\\pi(\\mu | x_1, \\ldots, x_n) &\\propto p(x_1, \\ldots, x_n | \\mu) \\times \\pi(\\mu) \\nonumber\\\\\n",
    "&= \\left(\\frac{1}{\\sigma^2\\sqrt{2\\pi}}\\right)^n e^{-\\frac{1}{2\\sigma^2}\\sum_{i=1}^n (x_i-\\mu)^2} \\times \\frac{1}{\\sigma_0^2\\sqrt{2\\pi}} e^{-\\frac{1}{2\\sigma_0^2}(\\mu-\\mu_0)^2}\\nonumber\\\\\n",
    "&\\propto e^{-\\frac{1}{2\\sigma^2}\\sum_{i=1}^n (x_i-\\mu)^2 - \\frac{1}{2\\sigma_0^2}(\\mu-\\mu_0)^2}\\nonumber\\\\\n",
    "&\\propto e^{-\\frac{1}{2}(\\mu^2(\\frac n {\\sigma^2} + \\frac 1 {\\sigma_0^2}) - 2\\mu(\\frac1 {\\sigma^2}\\sum_{i=1}^n x_i - \\frac{\\mu_0}{\\sigma_0^2}))}\\nonumber\\\\\n",
    "\\end{align}\n",
    "$"
   ]
  },
  {
   "cell_type": "markdown",
   "id": "a223706d",
   "metadata": {},
   "source": [
    "**The posterior distribution is a Gaussian distribution with mean :**\n",
    "$\\boxed{\\frac{\\frac1 {\\sigma^2}\\sum_{i=1}^n x_i + \\frac{\\mu_0}{\\sigma_0^2}}{\\frac{n}{\\sigma^2} + \\frac{1}{\\sigma_0^2}}}$ \n",
    "**and variance :**\n",
    " $\\boxed{\\frac 1 {\\frac{n}{\\sigma^2} + \\frac{1}{\\sigma_0^2}}}$\n",
    "\n",
    "----"
   ]
  },
  {
   "cell_type": "markdown",
   "id": "9ce2daad",
   "metadata": {},
   "source": [
    "2. Give the parameters of the posterior distribution obtained for each year from 2013 to 2023, considered independently, in a single dataframe."
   ]
  },
  {
   "cell_type": "code",
   "execution_count": 76,
   "id": "74439986",
   "metadata": {},
   "outputs": [
    {
     "name": "stderr",
     "output_type": "stream",
     "text": [
      "<ipython-input-69-2dc43b487c94>:2: SettingWithCopyWarning: \n",
      "A value is trying to be set on a copy of a slice from a DataFrame.\n",
      "Try using .loc[row_indexer,col_indexer] = value instead\n",
      "\n",
      "See the caveats in the documentation: https://pandas.pydata.org/pandas-docs/stable/user_guide/indexing.html#returning-a-view-versus-a-copy\n",
      "  df_region['date'] = pd.to_datetime(df['date'])\n",
      "<ipython-input-76-691d2ddfa899>:7: SettingWithCopyWarning: \n",
      "A value is trying to be set on a copy of a slice from a DataFrame.\n",
      "Try using .loc[row_indexer,col_indexer] = value instead\n",
      "\n",
      "See the caveats in the documentation: https://pandas.pydata.org/pandas-docs/stable/user_guide/indexing.html#returning-a-view-versus-a-copy\n",
      "  df_region_winter['date'] = pd.to_datetime(df['date'])\n",
      "<ipython-input-76-691d2ddfa899>:9: UserWarning: Boolean Series key will be reindexed to match DataFrame index.\n",
      "  df_region_winter_year = df_region_winter[mask]\n",
      "<ipython-input-76-691d2ddfa899>:7: SettingWithCopyWarning: \n",
      "A value is trying to be set on a copy of a slice from a DataFrame.\n",
      "Try using .loc[row_indexer,col_indexer] = value instead\n",
      "\n",
      "See the caveats in the documentation: https://pandas.pydata.org/pandas-docs/stable/user_guide/indexing.html#returning-a-view-versus-a-copy\n",
      "  df_region_winter['date'] = pd.to_datetime(df['date'])\n",
      "<ipython-input-76-691d2ddfa899>:9: UserWarning: Boolean Series key will be reindexed to match DataFrame index.\n",
      "  df_region_winter_year = df_region_winter[mask]\n",
      "<ipython-input-76-691d2ddfa899>:7: SettingWithCopyWarning: \n",
      "A value is trying to be set on a copy of a slice from a DataFrame.\n",
      "Try using .loc[row_indexer,col_indexer] = value instead\n",
      "\n",
      "See the caveats in the documentation: https://pandas.pydata.org/pandas-docs/stable/user_guide/indexing.html#returning-a-view-versus-a-copy\n",
      "  df_region_winter['date'] = pd.to_datetime(df['date'])\n",
      "<ipython-input-76-691d2ddfa899>:9: UserWarning: Boolean Series key will be reindexed to match DataFrame index.\n",
      "  df_region_winter_year = df_region_winter[mask]\n",
      "<ipython-input-76-691d2ddfa899>:7: SettingWithCopyWarning: \n",
      "A value is trying to be set on a copy of a slice from a DataFrame.\n",
      "Try using .loc[row_indexer,col_indexer] = value instead\n",
      "\n",
      "See the caveats in the documentation: https://pandas.pydata.org/pandas-docs/stable/user_guide/indexing.html#returning-a-view-versus-a-copy\n",
      "  df_region_winter['date'] = pd.to_datetime(df['date'])\n",
      "<ipython-input-76-691d2ddfa899>:9: UserWarning: Boolean Series key will be reindexed to match DataFrame index.\n",
      "  df_region_winter_year = df_region_winter[mask]\n",
      "<ipython-input-76-691d2ddfa899>:7: SettingWithCopyWarning: \n",
      "A value is trying to be set on a copy of a slice from a DataFrame.\n",
      "Try using .loc[row_indexer,col_indexer] = value instead\n",
      "\n",
      "See the caveats in the documentation: https://pandas.pydata.org/pandas-docs/stable/user_guide/indexing.html#returning-a-view-versus-a-copy\n",
      "  df_region_winter['date'] = pd.to_datetime(df['date'])\n",
      "<ipython-input-76-691d2ddfa899>:9: UserWarning: Boolean Series key will be reindexed to match DataFrame index.\n",
      "  df_region_winter_year = df_region_winter[mask]\n",
      "<ipython-input-76-691d2ddfa899>:7: SettingWithCopyWarning: \n",
      "A value is trying to be set on a copy of a slice from a DataFrame.\n",
      "Try using .loc[row_indexer,col_indexer] = value instead\n",
      "\n",
      "See the caveats in the documentation: https://pandas.pydata.org/pandas-docs/stable/user_guide/indexing.html#returning-a-view-versus-a-copy\n",
      "  df_region_winter['date'] = pd.to_datetime(df['date'])\n",
      "<ipython-input-76-691d2ddfa899>:9: UserWarning: Boolean Series key will be reindexed to match DataFrame index.\n",
      "  df_region_winter_year = df_region_winter[mask]\n",
      "<ipython-input-76-691d2ddfa899>:7: SettingWithCopyWarning: \n",
      "A value is trying to be set on a copy of a slice from a DataFrame.\n",
      "Try using .loc[row_indexer,col_indexer] = value instead\n",
      "\n",
      "See the caveats in the documentation: https://pandas.pydata.org/pandas-docs/stable/user_guide/indexing.html#returning-a-view-versus-a-copy\n",
      "  df_region_winter['date'] = pd.to_datetime(df['date'])\n",
      "<ipython-input-76-691d2ddfa899>:9: UserWarning: Boolean Series key will be reindexed to match DataFrame index.\n",
      "  df_region_winter_year = df_region_winter[mask]\n",
      "<ipython-input-76-691d2ddfa899>:7: SettingWithCopyWarning: \n",
      "A value is trying to be set on a copy of a slice from a DataFrame.\n",
      "Try using .loc[row_indexer,col_indexer] = value instead\n",
      "\n",
      "See the caveats in the documentation: https://pandas.pydata.org/pandas-docs/stable/user_guide/indexing.html#returning-a-view-versus-a-copy\n",
      "  df_region_winter['date'] = pd.to_datetime(df['date'])\n",
      "<ipython-input-76-691d2ddfa899>:9: UserWarning: Boolean Series key will be reindexed to match DataFrame index.\n",
      "  df_region_winter_year = df_region_winter[mask]\n",
      "<ipython-input-76-691d2ddfa899>:7: SettingWithCopyWarning: \n",
      "A value is trying to be set on a copy of a slice from a DataFrame.\n",
      "Try using .loc[row_indexer,col_indexer] = value instead\n",
      "\n",
      "See the caveats in the documentation: https://pandas.pydata.org/pandas-docs/stable/user_guide/indexing.html#returning-a-view-versus-a-copy\n",
      "  df_region_winter['date'] = pd.to_datetime(df['date'])\n",
      "<ipython-input-76-691d2ddfa899>:9: UserWarning: Boolean Series key will be reindexed to match DataFrame index.\n",
      "  df_region_winter_year = df_region_winter[mask]\n",
      "<ipython-input-76-691d2ddfa899>:7: SettingWithCopyWarning: \n",
      "A value is trying to be set on a copy of a slice from a DataFrame.\n",
      "Try using .loc[row_indexer,col_indexer] = value instead\n",
      "\n",
      "See the caveats in the documentation: https://pandas.pydata.org/pandas-docs/stable/user_guide/indexing.html#returning-a-view-versus-a-copy\n",
      "  df_region_winter['date'] = pd.to_datetime(df['date'])\n",
      "<ipython-input-76-691d2ddfa899>:9: UserWarning: Boolean Series key will be reindexed to match DataFrame index.\n",
      "  df_region_winter_year = df_region_winter[mask]\n",
      "<ipython-input-76-691d2ddfa899>:7: SettingWithCopyWarning: \n",
      "A value is trying to be set on a copy of a slice from a DataFrame.\n",
      "Try using .loc[row_indexer,col_indexer] = value instead\n",
      "\n",
      "See the caveats in the documentation: https://pandas.pydata.org/pandas-docs/stable/user_guide/indexing.html#returning-a-view-versus-a-copy\n",
      "  df_region_winter['date'] = pd.to_datetime(df['date'])\n",
      "<ipython-input-76-691d2ddfa899>:9: UserWarning: Boolean Series key will be reindexed to match DataFrame index.\n",
      "  df_region_winter_year = df_region_winter[mask]\n"
     ]
    },
    {
     "data": {
      "text/html": [
       "<div>\n",
       "<style scoped>\n",
       "    .dataframe tbody tr th:only-of-type {\n",
       "        vertical-align: middle;\n",
       "    }\n",
       "\n",
       "    .dataframe tbody tr th {\n",
       "        vertical-align: top;\n",
       "    }\n",
       "\n",
       "    .dataframe thead th {\n",
       "        text-align: right;\n",
       "    }\n",
       "</style>\n",
       "<table border=\"1\" class=\"dataframe\">\n",
       "  <thead>\n",
       "    <tr style=\"text-align: right;\">\n",
       "      <th></th>\n",
       "      <th>year</th>\n",
       "      <th>mean</th>\n",
       "      <th>variance</th>\n",
       "    </tr>\n",
       "  </thead>\n",
       "  <tbody>\n",
       "    <tr>\n",
       "      <th>0</th>\n",
       "      <td>2012-2013</td>\n",
       "      <td>3395.1760912698414</td>\n",
       "      <td>1984.126984126984</td>\n",
       "    </tr>\n",
       "    <tr>\n",
       "      <th>1</th>\n",
       "      <td>2013-2014</td>\n",
       "      <td>3095.1345984112977</td>\n",
       "      <td>1765.2250661959401</td>\n",
       "    </tr>\n",
       "    <tr>\n",
       "      <th>2</th>\n",
       "      <td>2014-2015</td>\n",
       "      <td>3229.578552515446</td>\n",
       "      <td>1765.2250661959401</td>\n",
       "    </tr>\n",
       "    <tr>\n",
       "      <th>3</th>\n",
       "      <td>2015-2016</td>\n",
       "      <td>3133.762549105194</td>\n",
       "      <td>1745.9624618070711</td>\n",
       "    </tr>\n",
       "    <tr>\n",
       "      <th>4</th>\n",
       "      <td>2016-2017</td>\n",
       "      <td>3275.816416593116</td>\n",
       "      <td>1765.2250661959401</td>\n",
       "    </tr>\n",
       "    <tr>\n",
       "      <th>5</th>\n",
       "      <td>2017-2018</td>\n",
       "      <td>3328.695939982348</td>\n",
       "      <td>1765.2250661959401</td>\n",
       "    </tr>\n",
       "    <tr>\n",
       "      <th>6</th>\n",
       "      <td>2018-2019</td>\n",
       "      <td>3179.9315975286854</td>\n",
       "      <td>1765.2250661959401</td>\n",
       "    </tr>\n",
       "    <tr>\n",
       "      <th>7</th>\n",
       "      <td>2019-2020</td>\n",
       "      <td>3124.061545176779</td>\n",
       "      <td>1745.9624618070711</td>\n",
       "    </tr>\n",
       "    <tr>\n",
       "      <th>8</th>\n",
       "      <td>2020-2021</td>\n",
       "      <td>3360.6575463371587</td>\n",
       "      <td>1765.2250661959401</td>\n",
       "    </tr>\n",
       "    <tr>\n",
       "      <th>9</th>\n",
       "      <td>2021-2022</td>\n",
       "      <td>3216.0414827890563</td>\n",
       "      <td>1765.2250661959401</td>\n",
       "    </tr>\n",
       "    <tr>\n",
       "      <th>10</th>\n",
       "      <td>2022-2023</td>\n",
       "      <td>3061.154015887026</td>\n",
       "      <td>1765.2250661959401</td>\n",
       "    </tr>\n",
       "  </tbody>\n",
       "</table>\n",
       "</div>"
      ],
      "text/plain": [
       "         year                mean            variance\n",
       "0   2012-2013  3395.1760912698414   1984.126984126984\n",
       "1   2013-2014  3095.1345984112977  1765.2250661959401\n",
       "2   2014-2015   3229.578552515446  1765.2250661959401\n",
       "3   2015-2016   3133.762549105194  1745.9624618070711\n",
       "4   2016-2017   3275.816416593116  1765.2250661959401\n",
       "5   2017-2018   3328.695939982348  1765.2250661959401\n",
       "6   2018-2019  3179.9315975286854  1765.2250661959401\n",
       "7   2019-2020   3124.061545176779  1745.9624618070711\n",
       "8   2020-2021  3360.6575463371587  1765.2250661959401\n",
       "9   2021-2022  3216.0414827890563  1765.2250661959401\n",
       "10  2022-2023   3061.154015887026  1765.2250661959401"
      ]
     },
     "execution_count": 76,
     "metadata": {},
     "output_type": "execute_result"
    }
   ],
   "source": [
    "df_region = df[df.region == 'Bretagne']\n",
    "df_region_winter = get_df_region_winter(df_region)\n",
    "\n",
    "df_parameters = pd.DataFrame(columns=['year', 'mean', 'variance'])\n",
    "\n",
    "for year in range(2012, 2023):\n",
    "    df_region_winter['date'] = pd.to_datetime(df['date'])\n",
    "    mask = ((df_region_winter['date'].dt.year == year) & (df_region['date'].dt.month == 12))|((df_region_winter['date'].dt.year == year + 1)&((df_region['date'].dt.month <= 3)))\n",
    "    df_region_winter_year = df_region_winter[mask]\n",
    "\n",
    "    n = get_properties(df_region_winter_year)[2]\n",
    "\n",
    "    S = df_region_winter_year[\"consumption\"].sum().astype(int)\n",
    "\n",
    "    mean = (1/400**2 *S + 3500/500**2)/(n/400**2+1/500**2)\n",
    "    variance = 1/(n/400**2+1/500**2)\n",
    "    df_parameters.loc[year-2012]=[str(year) + '-' + str(year+1), str(mean), str(variance)]\n",
    "\n",
    "df_parameters"
   ]
  },
  {
   "cell_type": "markdown",
   "id": "34e7e53f",
   "metadata": {},
   "source": [
    "3. Plot the density of the posterior distribution in 2023 and the *kde* of real data in 2023 on the same plot."
   ]
  },
  {
   "cell_type": "code",
   "execution_count": 77,
   "id": "eb02344e",
   "metadata": {},
   "outputs": [
    {
     "data": {
      "text/plain": [
       "<matplotlib.legend.Legend at 0x7fd01adf4400>"
      ]
     },
     "execution_count": 77,
     "metadata": {},
     "output_type": "execute_result"
    },
    {
     "data": {
      "image/png": "[encoded data removed]",
      "text/plain": [
       "<Figure size 432x288 with 1 Axes>"
      ]
     },
     "metadata": {},
     "output_type": "display_data"
    }
   ],
   "source": [
    "x=np.linspace(0, 5000, n)\n",
    "pdf = norm.pdf(x, loc=mean, scale=np.sqrt(variance))\n",
    "real_data = df_region_winter_year[\"consumption\"]\n",
    "\n",
    "kde_real = gaussian_kde(real_data)\n",
    "\n",
    "plt.plot(x, kde_real(x), label = 'kde real data in 2023', color = 'blue')\n",
    "plt.fill_between(x, kde_real(x), alpha = 0.2, color = 'blue')\n",
    "plt.plot(x, pdf, label = 'posterior distribution in 2023', color = 'red')\n",
    "plt.fill_between(x, pdf, alpha = 0.2,color = 'red')\n",
    "\n",
    "plt.xlabel('Consumption(MW)')\n",
    "plt.ylabel('Density')\n",
    "plt.title('kde of real data and posterior distribution during winter 2023 in Bretagne')\n",
    "plt.legend()"
   ]
  },
  {
   "cell_type": "markdown",
   "id": "34f2f990",
   "metadata": {},
   "source": [
    "4. Discuss the results, comparing to those obtained in part A."
   ]
  },
  {
   "cell_type": "markdown",
   "id": "b636cd1b",
   "metadata": {},
   "source": [
    "> The posterior distribution shows the probability of the mean considering a prior. The results are consistent with the real data. This is another way than in part A to obtain the mean (in part A we calculated it directly with the data). Both methods are convincing."
   ]
  },
  {
   "cell_type": "markdown",
   "id": "fbb2395b",
   "metadata": {},
   "source": [
    "## D. Hypothesis testing"
   ]
  },
  {
   "cell_type": "markdown",
   "id": "9829b730",
   "metadata": {},
   "source": [
    "Consider the region Bretagne. While the standard deviation is equal to 400MW in winter, you would like to test the hypothesis that it was 500MW in 2023. The mean is supposed to be known and equal to 3200MW.\n",
    "1. Propose a statistical test at level $\\alpha$."
   ]
  },
  {
   "cell_type": "markdown",
   "id": "eabddc9c",
   "metadata": {},
   "source": [
    "----\n",
    "$\\theta_0=250000 MW^2$  \n",
    "$\\theta_1=160000 MW^2$  \n",
    "\n",
    "We want to test $H_0=\\left\\{\\theta_0\\right\\}$ against $H_1=\\left\\{\\theta_1\\right\\}$\n",
    "\n",
    "Likelihood ratio :\n",
    "$\\begin{align}\n",
    "\\frac {p_1(x)}{p_0(x)} \n",
    "&\\propto \\frac {e^{-\\frac{1}{2\\theta_1}\\sum_{i=1}^n (x_i - \\mu)^2 }}{e^{-\\frac{1}{2\\theta_0}\\sum_{i=1}^n (x_i - \\mu)^2 }}\\nonumber\\\\\n",
    "&\\propto e^{\\frac{1}{2}(\\frac 1 {\\theta_0} - \\frac 1 \\theta_1)\\sum_{i=1}^n (x_i - \\mu)^2 }\\nonumber\n",
    "\\end{align}\n",
    "$\n",
    "\n",
    "Let's pose $S = \\sum_{i=1}^n (x_i - \\mu)^2$  \n",
    "\n",
    "Since $\\theta_0 > \\theta_1$, the test is given by :  \n",
    "$$\\boxed{\\delta(x) = 1_{S<c}}\\quad\\text{with some constant c>0}$$  \n",
    "\n",
    "We have $S \\sim \\theta Z$ with $Z \\sim \\chi^2(n)$  \n",
    "\n",
    "So, $\\alpha=P_0(S<c)=P_0(\\theta Z<c)=P_0(Z<\\frac c \\theta)$\n",
    "\n",
    "We get, using the quantile function $Q$ of the $\\chi^2(n)$ distribution : $c = \\theta_0Q(\\alpha)$\n",
    "\n",
    "If $c<S$, the hypothesis is valid, otherwise it is not.\n",
    "\n",
    "----"
   ]
  },
  {
   "cell_type": "markdown",
   "id": "7d66ab40",
   "metadata": {},
   "source": [
    "2. Provide the result of this test for $\\alpha=1\\%$."
   ]
  },
  {
   "cell_type": "code",
   "execution_count": 78,
   "id": "5e961bfd",
   "metadata": {},
   "outputs": [
    {
     "name": "stdout",
     "output_type": "stream",
     "text": [
      "S = 18736029\n",
      "c = 15438519.750425365\n",
      "The hypothesis is valid.\n"
     ]
    }
   ],
   "source": [
    "c = 500**2 * chi2.ppf(0.01, n)\n",
    "S = 0\n",
    "\n",
    "for val in df_region_winter_year[\"consumption\"]:\n",
    "    S += (val-3200)**2\n",
    "\n",
    "print(\"S =\", S)\n",
    "print(\"c =\", c)\n",
    "\n",
    "if(S>c):\n",
    "    print(\"The hypothesis is valid.\")\n",
    "else:\n",
    "    print(\"The hypothesis is not valid.\")"
   ]
  },
  {
   "cell_type": "markdown",
   "id": "a59a2a96",
   "metadata": {},
   "source": [
    "## E. Testing independence"
   ]
  },
  {
   "cell_type": "markdown",
   "id": "a71cf918",
   "metadata": {},
   "source": [
    "Consider the power consumption in Bretagne and Provence-Alpes-Côte d'Azur in winter. "
   ]
  },
  {
   "cell_type": "markdown",
   "id": "a7c78215",
   "metadata": {},
   "source": [
    "1. Visualize the joint distribution of power consumption in these 2 regions using seaborn."
   ]
  },
  {
   "cell_type": "code",
   "execution_count": 79,
   "id": "29b4c335",
   "metadata": {},
   "outputs": [
    {
     "name": "stderr",
     "output_type": "stream",
     "text": [
      "<ipython-input-69-2dc43b487c94>:2: SettingWithCopyWarning: \n",
      "A value is trying to be set on a copy of a slice from a DataFrame.\n",
      "Try using .loc[row_indexer,col_indexer] = value instead\n",
      "\n",
      "See the caveats in the documentation: https://pandas.pydata.org/pandas-docs/stable/user_guide/indexing.html#returning-a-view-versus-a-copy\n",
      "  df_region['date'] = pd.to_datetime(df['date'])\n",
      "<ipython-input-69-2dc43b487c94>:2: SettingWithCopyWarning: \n",
      "A value is trying to be set on a copy of a slice from a DataFrame.\n",
      "Try using .loc[row_indexer,col_indexer] = value instead\n",
      "\n",
      "See the caveats in the documentation: https://pandas.pydata.org/pandas-docs/stable/user_guide/indexing.html#returning-a-view-versus-a-copy\n",
      "  df_region['date'] = pd.to_datetime(df['date'])\n",
      "<ipython-input-79-014c7d175e1d>:6: SettingWithCopyWarning: \n",
      "A value is trying to be set on a copy of a slice from a DataFrame.\n",
      "Try using .loc[row_indexer,col_indexer] = value instead\n",
      "\n",
      "See the caveats in the documentation: https://pandas.pydata.org/pandas-docs/stable/user_guide/indexing.html#returning-a-view-versus-a-copy\n",
      "  df_region_winter_Bretagne['date'] = pd.to_datetime(df_region_winter_Bretagne['date'])\n",
      "<ipython-input-79-014c7d175e1d>:7: SettingWithCopyWarning: \n",
      "A value is trying to be set on a copy of a slice from a DataFrame.\n",
      "Try using .loc[row_indexer,col_indexer] = value instead\n",
      "\n",
      "See the caveats in the documentation: https://pandas.pydata.org/pandas-docs/stable/user_guide/indexing.html#returning-a-view-versus-a-copy\n",
      "  df_region_winter_Provence['date'] = pd.to_datetime(df_region_winter_Provence['date'])\n"
     ]
    },
    {
     "data": {
      "image/png": "[encoded data removed]",
      "text/plain": [
       "<Figure size 432x432 with 3 Axes>"
      ]
     },
     "metadata": {},
     "output_type": "display_data"
    }
   ],
   "source": [
    "df_region_Bretagne = df[df['region'] == \"Bretagne\"] \n",
    "df_region_winter_Bretagne = get_df_region_winter(df_region_Bretagne)\n",
    "df_region_Provence = df[df['region'] == \"Provence-Alpes-Côte d'Azur\"]\n",
    "df_region_winter_Provence = get_df_region_winter(df_region_Provence)\n",
    "\n",
    "df_region_winter_Bretagne['date'] = pd.to_datetime(df_region_winter_Bretagne['date'])\n",
    "df_region_winter_Provence['date'] = pd.to_datetime(df_region_winter_Provence['date'])\n",
    "result_df = pd.merge(df_region_winter_Bretagne, df_region_winter_Provence, on=\"date\", how=\"inner\")\n",
    "\n",
    "sns.set_theme(style=\"ticks\")\n",
    "\n",
    "g = sns.jointplot(\n",
    "    data=result_df,\n",
    "    x=\"consumption_x\", y=\"consumption_y\",\n",
    "    kind=\"kde\"\n",
    ")\n",
    "g.set_axis_labels(\"Bretagne Consumption\", \"PACA Consumption\")\n",
    "g.fig.suptitle(\"Joint Distribution of Consumption (Bretagne vs. PACA)\", fontsize=12)\n",
    "\n",
    "plt.show()"
   ]
  },
  {
   "cell_type": "markdown",
   "id": "a30a20bc",
   "metadata": {},
   "source": [
    "2. Do you think the power consumption in these two regions is independent?"
   ]
  },
  {
   "cell_type": "markdown",
   "id": "bedb9130",
   "metadata": {},
   "source": [
    "> I think that the power consumption of these two regions are not independant, as we see in the plot above that giving a value of the PACA consumption we can tell approximatively the value of the Bretagne consumption."
   ]
  },
  {
   "cell_type": "markdown",
   "id": "164f9b1c",
   "metadata": {},
   "source": [
    "3. Propose a chi-2 test for the independence of the power consumption in these two regions at level $\\alpha$. "
   ]
  },
  {
   "cell_type": "markdown",
   "id": "f079fecb",
   "metadata": {},
   "source": [
    "----\n",
    "$\\quad\\chi^2$-test for independance :  \n",
    "$$\\delta(x)= 1_{\\left\\{T(x)>c\\right\\}}$$\n",
    "\n",
    "$\\quad$ with : $$T(x)=\\sum\\limits_{i,j}\\frac{(N_{ij}-\\frac{N_iN_j}{n})^2}{\\frac{N_iN_j}{n}}$$\n",
    "\n",
    "$\\quad$ For a level $\\alpha$ : $$\\boxed{c=Q(1-\\alpha)}$$\n",
    "\n",
    "$\\quad$ with Q the quantile function of the $\\chi^2((2-1)(n-1))=\\chi^2(n-1)$ distribution (with n the number of days of the distribution).  \n",
    "\n",
    "----"
   ]
  },
  {
   "cell_type": "markdown",
   "id": "50a23229",
   "metadata": {},
   "source": [
    "4. Give the result of this test for $\\alpha=1\\%$. "
   ]
  },
  {
   "cell_type": "code",
   "execution_count": 80,
   "id": "5e744874",
   "metadata": {},
   "outputs": [
    {
     "name": "stdout",
     "output_type": "stream",
     "text": [
      "T = 16442.45517172824\n",
      "c = 1086.9758002558094\n",
      "The consumption of Bretagne and Provence-Alpes-Côte d'Azur are not independant.\n"
     ]
    }
   ],
   "source": [
    "df_region_winter_BrePro = pd.concat([df_region_winter_Bretagne, df_region_winter_Provence]).groupby('date').sum().reset_index()\n",
    "n=get_properties(df_region_winter_BrePro)[2]\n",
    "\n",
    "c = chi2.ppf(0.99, n-1)\n",
    "\n",
    "T = 0\n",
    "bre_tot_cons = df_region_winter_Bretagne[\"consumption\"].sum().astype(int)\n",
    "pro_tot_cons = df_region_winter_Provence[\"consumption\"].sum().astype(int)\n",
    "brepro_tot_cons = df_region_winter_BrePro[\"consumption\"].sum().astype(int)\n",
    "\n",
    "for day in df_region_winter_BrePro['date']:\n",
    "    bretagne_consumption = df_region_winter_Bretagne.loc[df_region_winter_Bretagne['date'] == day, 'consumption'].values[0]\n",
    "    provence_consumption = df_region_winter_Provence.loc[df_region_winter_Provence['date'] == day, 'consumption'].values[0]\n",
    "    brepro_consumption = df_region_winter_BrePro.loc[df_region_winter_BrePro['date'] == day, 'consumption'].values[0]\n",
    "\n",
    "    T += ((bretagne_consumption - brepro_consumption*bre_tot_cons/brepro_tot_cons) ** 2) / (brepro_consumption*bre_tot_cons/brepro_tot_cons) + ((provence_consumption - brepro_consumption*pro_tot_cons/brepro_tot_cons) ** 2) / (brepro_consumption*pro_tot_cons/brepro_tot_cons)\n",
    "\n",
    "print(\"T =\", T)\n",
    "print(\"c =\", c)\n",
    "if(T>c):\n",
    "    print(\"The consumption of Bretagne and Provence-Alpes-Côte d'Azur are not independant.\")\n",
    "else:\n",
    "    print(\"The consumption of Bretagne and Provence-Alpes-Côte d'Azur are independant.\")"
   ]
  },
  {
   "cell_type": "markdown",
   "id": "339d7f64",
   "metadata": {},
   "source": [
    "## F. Confidence intervals"
   ]
  },
  {
   "cell_type": "markdown",
   "id": "1c957e74",
   "metadata": {},
   "source": [
    "Consider the region Bretagne in winter. \n",
    "\n",
    "1. Provide a confidence interval at level $\\alpha=95\\%$ for the mean power consumption. "
   ]
  },
  {
   "cell_type": "markdown",
   "id": "16cf48b5",
   "metadata": {},
   "source": [
    "----\n",
    "Let's pose $X \\sim \\mathcal{N}(\\mu, \\sigma^2)$, $\\quad\\overline{X} = \\frac 1 n \\sum_{i=1}^n X_i\\quad$ and $\\quad V=\\frac{1}{n-1}\\sum_{i=1}^n(X_i-\\overline{X})^2$\n",
    "\n",
    "Then, $\\overline{X} \\sim \\mathcal{N}(\\mu, \\frac{\\sigma^2}n)$  \n",
    "\n",
    "\n",
    "$\\quad$ Let $Z$ be such as $Z = \\frac{\\overline{X}-\\mu}{\\frac{\\sigma}{\\sqrt{n}}}$. By construction, $Z \\sim \\mathcal{N}(0, 1)$.  \n",
    "\n",
    "$\\quad$ Let $Y$ be such as $Y = \\frac {V(n-1)}{\\sigma^2}$. By construction, $Y \\sim \\chi^2(n-1)$\n",
    "\n",
    "So, $T := \\frac Z {\\sqrt{\\frac Y {n-1}}} = \\frac {\\overline{X}-\\mu}{\\sqrt{\\frac V {n}}} \\sim St(n-1)$  \n",
    "\n",
    "Let $Q$ be the quantile function of T, $c=Q(1-\\frac \\alpha 2)$.  \n",
    "\n",
    "$\\quad$ We have :\n",
    "$$ P(T \\in [-c, c]) = 1 - \\alpha\n",
    "$$\n",
    "$\\quad$ That is :\n",
    "$$\\forall \\mu, P_{\\mu}(\\mu \\in [\\overline{X} - c\\sqrt{\\frac {n}{V}},\\overline{X} + c\\sqrt{\\frac {n}{V}}]) =  1 - \\alpha\n",
    "$$"
   ]
  },
  {
   "cell_type": "code",
   "execution_count": 81,
   "id": "daa2c81d",
   "metadata": {},
   "outputs": [
    {
     "name": "stdout",
     "output_type": "stream",
     "text": [
      "The interval at level 95% for the mean power consumption is: [3214.03, 3214.33]\n"
     ]
    }
   ],
   "source": [
    "n = get_properties(df_region_winter_Bretagne)[2]\n",
    "c = t.ppf(1-0.05/2, n-1)\n",
    "\n",
    "X_bar = 0\n",
    "V = 0\n",
    "for i in range(n):\n",
    "    X_bar += df_region_winter_Bretagne['consumption'].values[i]\n",
    "X_bar /= n\n",
    "\n",
    "for i in range(n):\n",
    "    V += (df_region_winter_Bretagne['consumption'].values[i]-X_bar)**2\n",
    "V /= (n-1)\n",
    "\n",
    "lower_bound = X_bar - c*np.sqrt(n/V)\n",
    "upper_bound = X_bar + c*np.sqrt(n/V)\n",
    "\n",
    "print(\"The interval at level 95% for the mean power consumption is: [{:.2f}, {:.2f}]\".format(lower_bound, upper_bound))"
   ]
  },
  {
   "cell_type": "markdown",
   "id": "ab0483f8",
   "metadata": {},
   "source": [
    "2. Give the result of a Student test at level $5\\%$ for the null hypothesis that the mean consumption in 2023 is equal to 3100MW."
   ]
  },
  {
   "cell_type": "markdown",
   "id": "168599da",
   "metadata": {},
   "source": [
    "> Since 3100MW is not in the confidence interval, the null hypothesis with the mean consumption equal to 3100MW can not be accepted."
   ]
  }
 ],
 "metadata": {
  "kernelspec": {
   "display_name": "Python 3 (ipykernel)",
   "language": "python",
   "name": "python3"
  },
  "language_info": {
   "codemirror_mode": {
    "name": "ipython",
    "version": 3
   },
   "file_extension": ".py",
   "mimetype": "text/x-python",
   "name": "python",
   "nbconvert_exporter": "python",
   "pygments_lexer": "ipython3",
   "version": "3.8.3"
  }
 },
 "nbformat": 4,
 "nbformat_minor": 5
}
